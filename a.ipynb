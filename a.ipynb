{
 "cells": [
  {
   "cell_type": "markdown",
   "metadata": {},
   "source": [
    "# Automação de Sistemas e Processos com Python\n",
    "\n",
    "### Desafio:\n",
    "\n",
    "Todos os dias, o nosso sistema atualiza as vendas do dia anterior.\n",
    "O seu trabalho diário, como analista, é enviar um e-mail para a diretoria, assim que começar a trabalhar, com o faturamento e a quantidade de produtos vendidos no dia anterior\n",
    "\n",
    "E-mail da diretoria: seugmail+diretoria@gmail.com<br>\n",
    "Local onde o sistema disponibiliza as vendas do dia anterior: https://drive.google.com/drive/folders/149xknr9JvrlEnhNWO49zPcw0PW5icxga?usp=sharing\n",
    "\n",
    "Para resolver isso, vamos usar o pyautogui, uma biblioteca de automação de comandos do mouse e do teclado"
   ]
  },
  {
   "cell_type": "code",
   "execution_count": 41,
   "metadata": {
    "scrolled": false
   },
   "outputs": [
    {
     "name": "stdout",
     "output_type": "stream",
     "text": [
      "Requirement already satisfied: pyautogui in c:\\users\\wendel.ferreira\\appdata\\roaming\\python\\python39\\site-packages (0.9.53)\n",
      "Requirement already satisfied: PyTweening>=1.0.1 in c:\\users\\wendel.ferreira\\appdata\\roaming\\python\\python39\\site-packages (from pyautogui) (1.0.4)\n",
      "Requirement already satisfied: pyscreeze>=0.1.21 in c:\\users\\wendel.ferreira\\appdata\\roaming\\python\\python39\\site-packages (from pyautogui) (0.1.28)\n",
      "Requirement already satisfied: pymsgbox in c:\\users\\wendel.ferreira\\appdata\\roaming\\python\\python39\\site-packages (from pyautogui) (1.0.9)\n",
      "Requirement already satisfied: pygetwindow>=0.0.5 in c:\\users\\wendel.ferreira\\appdata\\roaming\\python\\python39\\site-packages (from pyautogui) (0.0.9)\n",
      "Requirement already satisfied: mouseinfo in c:\\users\\wendel.ferreira\\appdata\\roaming\\python\\python39\\site-packages (from pyautogui) (0.1.3)\n",
      "Requirement already satisfied: pyrect in c:\\users\\wendel.ferreira\\appdata\\roaming\\python\\python39\\site-packages (from pygetwindow>=0.0.5->pyautogui) (0.2.0)\n",
      "Requirement already satisfied: pyperclip in c:\\users\\wendel.ferreira\\appdata\\roaming\\python\\python39\\site-packages (from mouseinfo->pyautogui) (1.8.2)\n",
      "Requirement already satisfied: pyperclip in c:\\users\\wendel.ferreira\\appdata\\roaming\\python\\python39\\site-packages (1.8.2)\n"
     ]
    }
   ],
   "source": [
    "!pip install pyautogui\n",
    "!pip install pyperclip"
   ]
  },
  {
   "cell_type": "code",
   "execution_count": 42,
   "metadata": {},
   "outputs": [
    {
     "name": "stdout",
     "output_type": "stream",
     "text": [
      "      Código Venda       Data                     ID Loja           Produto  \\\n",
      "0            65014 2019-12-01            Shopping Morumbi    Sunga Listrado   \n",
      "1            65014 2019-12-01            Shopping Morumbi   Casaco Listrado   \n",
      "2            65016 2019-12-01           Iguatemi Campinas   Sapato Listrado   \n",
      "3            65016 2019-12-01           Iguatemi Campinas            Casaco   \n",
      "4            65017 2019-12-01          Shopping SP Market        Gorro Liso   \n",
      "...            ...        ...                         ...               ...   \n",
      "7084         69996 2019-12-26  Center Shopping Uberlândia    Short Listrado   \n",
      "7085         69996 2019-12-26  Center Shopping Uberlândia           Mochila   \n",
      "7086         69996 2019-12-26  Center Shopping Uberlândia  Pulseira Estampa   \n",
      "7087         69997 2019-12-26           Ribeirão Shopping   Camisa Listrado   \n",
      "7088         69997 2019-12-26           Ribeirão Shopping       Short Linho   \n",
      "\n",
      "      Quantidade  Valor Unitário  Valor Final  \n",
      "0              5             114          570  \n",
      "1              1             269          269  \n",
      "2              2             363          726  \n",
      "3              1             250          250  \n",
      "4              3              92          276  \n",
      "...          ...             ...          ...  \n",
      "7084           2             102          204  \n",
      "7085           4             270         1080  \n",
      "7086           1              87           87  \n",
      "7087           1             108          108  \n",
      "7088           2             133          266  \n",
      "\n",
      "[7089 rows x 7 columns]\n"
     ]
    }
   ],
   "source": [
    "#importando bibliotecas\n",
    "\n",
    "import pyautogui\n",
    "import pyperclip\n",
    "import time\n",
    "\n",
    "#Entrar no sistema da empresa para baixar arquivo do banco de dados\n",
    "\n",
    "pyautogui.press(\"win\") #acessa o pesquisar do windows\n",
    "pyautogui.write(\"chrome\") #escreve chrome\n",
    "pyautogui.sleep(3)  #delay\n",
    "pyautogui.press(\"enter\") # abre o chorme\n",
    "pyautogui.sleep(3) #delay\n",
    "pyautogui.hotkey(\"ctrl\",\"t\") #abre outra aba no navegador\n",
    "pyautogui.sleep(2)\n",
    "pyperclip.copy(\"https://drive.google.com/drive/folders/149xknr9JvrlEnhNWO49zPcw0PW5icxga\") #cola endereço do BD\n",
    "pyautogui.hotkey(\"ctrl\",\"v\") \n",
    "pyautogui.press(\"enter\")\n",
    "    \n",
    "\n",
    "#Navegar no sistema e encontrar a base de dados- entrar na pasta exportar\n",
    "pyautogui.sleep(5)\n",
    "pyautogui.click(x=332, y=270) #-> Clica na pasta exportar\n",
    "pyautogui.sleep(2) \n",
    "pyautogui.doubleClick(x=332, y=270) #duplo clique na área da pasta exportar\n",
    "\n",
    "#Baixar banco de dados\n",
    "pyautogui.sleep(4)\n",
    "pyautogui.click(x=398, y=310, clicks=1) #-> clica nos 3 pontinhos \n",
    "pyautogui.click(x=1232, y=158, clicks=1) #-> clica em download para baixar arquivo do BD\n",
    "pyautogui.sleep(2)\n",
    "\n",
    "pyautogui.click(x=964, y=526) #-> Clia em Salvar para salvar o arquivo no Computador\n",
    "pyautogui.sleep(5)\n",
    "pyautogui.press(\"enter\")\n",
    "\n",
    "\n",
    "#Calcular indicadores(faturamento e quantidade de produtos)\n",
    "#Calcula a quantidade de produtos vendida e o faturamento presente no BD.\n",
    "import pandas as pd\n",
    "\n",
    "tabela = pd.read_excel(r\"C:\\Users\\wendel.ferreira\\Desktop\\Vendas - Dez.xlsx\") #lendo arquivo excel read_excel onde se encontra as informaçoes\n",
    "print(tabela) #Exporta A tabela de informaçoes\n",
    "\n"
   ]
  },
  {
   "cell_type": "code",
   "execution_count": 43,
   "metadata": {
    "scrolled": true
   },
   "outputs": [
    {
     "name": "stdout",
     "output_type": "stream",
     "text": [
      "15227\n",
      "2917311\n"
     ]
    }
   ],
   "source": [
    "#Calcula os indicadores de quantidade e faturamento.\n",
    "import pandas #nova bliblioteca de analise de dados\n",
    "\n",
    "quantidade = tabela[\"Quantidade\"].sum()\n",
    "\n",
    "faturamento = tabela[\"Valor Final\"].sum()\n",
    "                     \n",
    "print(quantidade)\n",
    "print(faturamento)\n",
    "\n"
   ]
  },
  {
   "cell_type": "code",
   "execution_count": 44,
   "metadata": {},
   "outputs": [],
   "source": [
    "#Entrar no e-mail\n",
    "\n",
    "pyautogui.sleep(5) #delay\n",
    "pyautogui.hotkey(\"ctrl\",\"t\") #abre outra aba no navegador\n",
    "pyperclip.copy(\"https://mail.google.com/mail/u/0/#inbox\") #copia endereço\n",
    "pyautogui.hotkey(\"ctrl\",\"v\") #cola endereço do email\n",
    "pyautogui.press(\"enter\")\n",
    "\n",
    "#Enviar email para a diretora com os indicadores\n",
    "\n",
    "pyautogui.sleep(7)\n",
    "pyautogui.click(x=76, y=162)  #Clicar na aba +\n",
    "pyautogui.sleep(3)\n",
    "\n",
    "pyperclip.copy(\"yuri.rodrigues@ucb.br\") #Escrever destinatario\n",
    "pyautogui.hotkey(\"ctrl\",\"v\")\n",
    "pyautogui.press(\"enter\")\n",
    "pyautogui.press(\"tab\") #Passar para aba assunto\n",
    "pyautogui.sleep(3)  #delay\n",
    "pyautogui.write(\"Balancete de vendas\") #escrever assunto\n",
    "pyautogui.sleep(2)\n",
    "pyautogui.press(\"tab\") #Passar para corpo do email\n",
    "pyautogui.sleep(3)"
   ]
  },
  {
   "cell_type": "code",
   "execution_count": 45,
   "metadata": {},
   "outputs": [],
   "source": [
    "#Escrever corpo do em-mail\n",
    "\n",
    "texto = f\"\"\"\n",
    "\n",
    "Bom dia, segue abaixo a quantidade de vendas e o valor total arrecadado.\n",
    "\n",
    "O faturamento foi de : R${faturamento:,.2f}\n",
    "\n",
    "A quantidade de produtos vendida foi de:{quantidade:,}\n",
    "\"\"\"\n",
    "\n",
    "pyperclip.copy(texto)\n",
    "\n",
    "pyautogui.hotkey(\"ctrl\",\"v\")\n"
   ]
  },
  {
   "cell_type": "code",
   "execution_count": 46,
   "metadata": {},
   "outputs": [],
   "source": [
    "#enviar email\n",
    "\n",
    "pyautogui.hotkey(\"ctrl\",\"enter\")"
   ]
  },
  {
   "cell_type": "code",
   "execution_count": null,
   "metadata": {},
   "outputs": [],
   "source": []
  },
  {
   "cell_type": "code",
   "execution_count": null,
   "metadata": {},
   "outputs": [],
   "source": []
  },
  {
   "cell_type": "code",
   "execution_count": null,
   "metadata": {},
   "outputs": [],
   "source": []
  },
  {
   "cell_type": "markdown",
   "metadata": {},
   "source": [
    "#### Use esse código para descobrir qual a posição de um item que queira clicar\n",
    "\n",
    "- Lembre-se: a posição na sua tela é diferente da posição na minha tela"
   ]
  },
  {
   "cell_type": "code",
   "execution_count": 47,
   "metadata": {},
   "outputs": [
    {
     "data": {
      "text/plain": [
       "Point(x=76, y=162)"
      ]
     },
     "execution_count": 47,
     "metadata": {},
     "output_type": "execute_result"
    }
   ],
   "source": [
    "time.sleep(10)\n",
    "pyautogui.position()"
   ]
  },
  {
   "cell_type": "code",
   "execution_count": null,
   "metadata": {},
   "outputs": [],
   "source": []
  },
  {
   "cell_type": "code",
   "execution_count": null,
   "metadata": {},
   "outputs": [],
   "source": []
  },
  {
   "cell_type": "code",
   "execution_count": null,
   "metadata": {},
   "outputs": [],
   "source": []
  },
  {
   "cell_type": "code",
   "execution_count": null,
   "metadata": {},
   "outputs": [],
   "source": []
  },
  {
   "cell_type": "code",
   "execution_count": null,
   "metadata": {},
   "outputs": [],
   "source": []
  }
 ],
 "metadata": {
  "kernelspec": {
   "display_name": "Python 3 (ipykernel)",
   "language": "python",
   "name": "python3"
  },
  "language_info": {
   "codemirror_mode": {
    "name": "ipython",
    "version": 3
   },
   "file_extension": ".py",
   "mimetype": "text/x-python",
   "name": "python",
   "nbconvert_exporter": "python",
   "pygments_lexer": "ipython3",
   "version": "3.9.12"
  }
 },
 "nbformat": 4,
 "nbformat_minor": 4
}
